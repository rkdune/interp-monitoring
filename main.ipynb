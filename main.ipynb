{
 "cells": [
  {
   "cell_type": "code",
   "execution_count": 1,
   "metadata": {},
   "outputs": [],
   "source": [
    "\n",
    "from dotenv import load_dotenv\n",
    "import os\n",
    "from openai import OpenAI\n",
    "import goodfire"
   ]
  },
  {
   "cell_type": "code",
   "execution_count": 2,
   "metadata": {},
   "outputs": [
    {
     "name": "stdout",
     "output_type": "stream",
     "text": [
      "goodfire api key found\n",
      "openrouter api key found\n"
     ]
    }
   ],
   "source": [
    "# Load environment variables from .env file\n",
    "load_dotenv()\n",
    "\n",
    "# Get the API key\n",
    "goodfire_api_key = os.environ.get('GOODFIRE_API_KEY')\n",
    "openrouter_api_key = os.environ.get('OPENROUTER_API_KEY')\n",
    "\n",
    "if goodfire_api_key is None:\n",
    "    raise ValueError(\"API_KEY environment variable is not set\")\n",
    "else:\n",
    "    print(\"goodfire api key found\")\n",
    "\n",
    "if openrouter_api_key is None:\n",
    "    raise ValueError(\"API_KEY environment variable is not set\")\n",
    "else:\n",
    "    print(\"openrouter api key found\")"
   ]
  },
  {
   "cell_type": "code",
   "execution_count": 16,
   "metadata": {},
   "outputs": [
    {
     "name": "stdout",
     "output_type": "stream",
     "text": [
      "The meaning of life is a question that has puzzled philosophers, theologians, scientists, and many others for centuries. It's a complex and subjective topic, and there's no one definitive answer. However, here are some possible perspectives on the meaning of\n"
     ]
    }
   ],
   "source": [
    "# Getting response from OpenRouter\n",
    "client = OpenAI(\n",
    "  base_url=\"https://openrouter.ai/api/v1\",\n",
    "  api_key=openrouter_api_key,\n",
    ")\n",
    "\n",
    "completion = client.chat.completions.create(\n",
    "  extra_body={\n",
    "  },\n",
    "  model=\"meta-llama/llama-3.3-70b-instruct:nitro\",\n",
    "  messages=[\n",
    "    {\n",
    "      \"role\": \"user\",\n",
    "      \"content\": \"What is the meaning of life?\"\n",
    "    }\n",
    "  ],\n",
    "  max_tokens=50\n",
    ")\n",
    "response_content = completion.choices[0].message.content\n",
    "print(response_content)"
   ]
  },
  {
   "cell_type": "code",
   "execution_count": 11,
   "metadata": {},
   "outputs": [],
   "source": [
    "# Initialize Goodfire client\n",
    "goodfire_client = goodfire.Client(api_key=goodfire_api_key)\n",
    "\n",
    "# Create a variant for the same model\n",
    "variant = goodfire.Variant(\"meta-llama/Llama-3.3-70B-Instruct\")\n",
    "\n",
    "# Inspect the features in the response\n",
    "context = goodfire_client.features.inspect(\n",
    "    messages=[\n",
    "        {\"role\": \"user\", \"content\": \"What is the meaning of life?\"},\n",
    "        {\"role\": \"assistant\", \"content\": response_content}\n",
    "    ],\n",
    "    model=variant\n",
    ")"
   ]
  },
  {
   "cell_type": "code",
   "execution_count": 12,
   "metadata": {},
   "outputs": [
    {
     "name": "stdout",
     "output_type": "stream",
     "text": [
      "\n",
      "Top activating features:\n",
      "- Breaking down complex topics into structured explanatory sequences: 41\n",
      "- Multiple valid perspectives exist with no single definitive answer: 33\n",
      "- The assistant explains its capabilities and limitations as an AI: 33\n"
     ]
    }
   ],
   "source": [
    "# Get the top activating features\n",
    "top_features = context.top(k=3)\n",
    "print(\"\\nTop activating features:\")\n",
    "for feature in top_features:\n",
    "    print(f\"- {feature.feature.label}: {feature.activation}\")"
   ]
  },
  {
   "cell_type": "code",
   "execution_count": 14,
   "metadata": {},
   "outputs": [
    {
     "name": "stdout",
     "output_type": "stream",
     "text": [
      "Breaking down complex topics into structured explanatory sequences, Multiple valid perspectives exist with no single definitive answer, The assistant explains its capabilities and limitations as an AI\n"
     ]
    }
   ],
   "source": [
    "# Convert top features to a string of feature labels\n",
    "feature_labels_as_string = \", \".join([feature.feature.label for feature in top_features])\n",
    "print(feature_labels_as_string)\n"
   ]
  },
  {
   "cell_type": "code",
   "execution_count": 15,
   "metadata": {},
   "outputs": [
    {
     "name": "stdout",
     "output_type": "stream",
     "text": [
      "The LLM is thinking about structured explanations 📝, multiple valid perspectives 🤝, and transparent AI capabilities 🤖.\n"
     ]
    }
   ],
   "source": [
    "completion = client.chat.completions.create(\n",
    "  extra_body={\n",
    "  },\n",
    "  model=\"meta-llama/llama-3.3-70b-instruct:nitro\",\n",
    "  messages=[\n",
    "    {\n",
    "      \"role\": \"user\",\n",
    "      \"content\": \"Your input is a list of features an LLM is thinking about. Your output should be a statement in the form of 'The LLM is thinking about [feature1], [feature2], and [feature3].', with each [feature] being a concise descrption of the feature with a relevant emoji at the end. The input is: \" + feature_labels_as_string\n",
    "    }\n",
    "  ],\n",
    "  max_tokens=50\n",
    ")\n",
    "response_content = completion.choices[0].message.content\n",
    "print(response_content)"
   ]
  }
 ],
 "metadata": {
  "kernelspec": {
   "display_name": "venv",
   "language": "python",
   "name": "python3"
  },
  "language_info": {
   "codemirror_mode": {
    "name": "ipython",
    "version": 3
   },
   "file_extension": ".py",
   "mimetype": "text/x-python",
   "name": "python",
   "nbconvert_exporter": "python",
   "pygments_lexer": "ipython3",
   "version": "3.11.9"
  }
 },
 "nbformat": 4,
 "nbformat_minor": 2
}
