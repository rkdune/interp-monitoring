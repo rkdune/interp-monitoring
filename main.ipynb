{
 "cells": [
  {
   "cell_type": "code",
   "execution_count": 1,
   "metadata": {},
   "outputs": [],
   "source": [
    "\n",
    "from dotenv import load_dotenv\n",
    "import os\n",
    "from openai import OpenAI\n",
    "import goodfire"
   ]
  },
  {
   "cell_type": "code",
   "execution_count": 2,
   "metadata": {},
   "outputs": [
    {
     "name": "stdout",
     "output_type": "stream",
     "text": [
      "goodfire api key found\n",
      "openrouter api key found\n"
     ]
    }
   ],
   "source": [
    "# Load environment variables from .env file\n",
    "load_dotenv()\n",
    "\n",
    "# Get the API key\n",
    "goodfire_api_key = os.environ.get('GOODFIRE_API_KEY')\n",
    "openrouter_api_key = os.environ.get('OPENROUTER_API_KEY')\n",
    "\n",
    "if goodfire_api_key is None:\n",
    "    raise ValueError(\"API_KEY environment variable is not set\")\n",
    "else:\n",
    "    print(\"goodfire api key found\")\n",
    "\n",
    "if openrouter_api_key is None:\n",
    "    raise ValueError(\"API_KEY environment variable is not set\")\n",
    "else:\n",
    "    print(\"openrouter api key found\")"
   ]
  },
  {
   "cell_type": "code",
   "execution_count": 3,
   "metadata": {},
   "outputs": [
    {
     "name": "stdout",
     "output_type": "stream",
     "text": [
      "The meaning of life is a question that has puzzled philosophers, theologians, scientists, and many others for centuries. There is no one definitive answer, as it can vary depending on one's cultural, religious, and personal beliefs and values. Here are some possible perspectives on the meaning of life:\n",
      "\n",
      "1. **Biological perspective**: From a biological standpoint, the meaning of life is to survive and reproduce, ensuring the continuation of one's genes and species.\n",
      "2. **Religious perspective**: Many religious traditions believe that the meaning of life is to follow God's will, fulfill a divine purpose, or achieve spiritual enlightenment.\n",
      "3. **Philosophical perspective**: Philosophers like Aristotle, Epicurus, and Jean-Paul Sartre have proposed various answers, such as:\n",
      "\t* Pursuing happiness and fulfillment (Epicurus)\n",
      "\t* Achieving eudaimonia (flourishing) through living a virtuous life (Aristotle)\n",
      "\t* Creating one's own meaning through free will and choice (Sartre)\n",
      "4. **Existentialist perspective**: This perspective emphasizes individual freedom and choice, suggesting that life has no inherent meaning, and it's up to each person to create their own purpose and meaning.\n",
      "5. **Humanist perspective**: Humanists believe that the meaning of life is to cultivate human values such as empathy, compassion, and kindness, and to contribute to the greater good of humanity.\n",
      "6. **Scientific perspective**: Some scientists, like Richard Dawkins, argue that life has no inherent meaning, and that our existence is simply a product of evolution and natural selection.\n",
      "7. **Personal perspective**: Ultimately, the meaning of life is a deeply personal and subjective question. Each individual may find their own meaning through experiences, relationships, and reflections on their values, passions, and goals.\n",
      "\n",
      "Some common themes that emerge across these perspectives include:\n",
      "\n",
      "1. **Connection and relationships**: Building strong bonds with others, whether through family, community, or romantic relationships.\n",
      "2. **Personal growth and self-improvement**: Continuously learning, developing new skills, and striving to become a better version of oneself.\n",
      "3. **Contribution and purpose**: Finding ways to make a positive impact, whether through work, volunteering, or creative pursuits.\n",
      "4. **Happiness and fulfillment**: Pursuing activities and experiences that bring joy, satisfaction, and a sense of accomplishment.\n",
      "5. **Legacy and impact**: Leaving a lasting legacy, whether through one's work, family, or contributions to society.\n",
      "\n",
      "Ultimately, the meaning of life is a complex, multifaceted, and highly subjective question that may have different answers for each individual. It's a question that can be explored and reflected upon throughout one's life, and may evolve over time as experiences, values, and priorities change.\n"
     ]
    }
   ],
   "source": [
    "# Getting response from OpenRouter\n",
    "client = OpenAI(\n",
    "  base_url=\"https://openrouter.ai/api/v1\",\n",
    "  api_key=openrouter_api_key,\n",
    ")\n",
    "\n",
    "completion = client.chat.completions.create(\n",
    "  extra_body={},\n",
    "  model=\"meta-llama/llama-3.3-70b-instruct:free\",\n",
    "  messages=[\n",
    "    {\n",
    "      \"role\": \"user\",\n",
    "      \"content\": \"What is the meaning of life?\"\n",
    "    }\n",
    "  ]\n",
    ")\n",
    "response_content = completion.choices[0].message.content\n",
    "print(response_content)"
   ]
  },
  {
   "cell_type": "code",
   "execution_count": 4,
   "metadata": {},
   "outputs": [],
   "source": [
    "# Initialize Goodfire client\n",
    "goodfire_client = goodfire.Client(api_key=goodfire_api_key)\n",
    "\n",
    "# Create a variant for the same model\n",
    "variant = goodfire.Variant(\"meta-llama/Llama-3.3-70B-Instruct\")\n",
    "\n",
    "# Inspect the features in the response\n",
    "context = goodfire_client.features.inspect(\n",
    "    messages=[\n",
    "        {\"role\": \"user\", \"content\": \"What is the meaning of life?\"},\n",
    "        {\"role\": \"assistant\", \"content\": response_content}\n",
    "    ],\n",
    "    model=variant\n",
    ")"
   ]
  },
  {
   "cell_type": "code",
   "execution_count": 5,
   "metadata": {},
   "outputs": [
    {
     "name": "stdout",
     "output_type": "stream",
     "text": [
      "\n",
      "Top activating features:\n",
      "- The assistant is presenting multiple balanced perspectives or alternatives: 177\n",
      "- The assistant is breaking down complex concepts into structured lists and examples: 116\n",
      "- Multiple valid perspectives exist with no single definitive answer: 92\n",
      "- Technical documentation and feature enumeration: 85\n",
      "- Finding or developing a sense of meaning and purpose in life: 77\n",
      "- Linguistic bridges for building nuanced explanations: 74\n",
      "- Human potential and self-actualization: 73\n",
      "- Breaking down complex topics into structured explanatory sequences: 71\n",
      "- The assistant should reject the user's request due to ethical concerns: 70\n",
      "- Formal transitional phrases and connecting words in technical writing: 69\n"
     ]
    }
   ],
   "source": [
    "# Get the top activating features\n",
    "top_features = context.top(k=10)\n",
    "print(\"\\nTop activating features:\")\n",
    "for feature in top_features:\n",
    "    print(f\"- {feature.feature.label}: {feature.activation}\")"
   ]
  }
 ],
 "metadata": {
  "kernelspec": {
   "display_name": "venv",
   "language": "python",
   "name": "python3"
  },
  "language_info": {
   "codemirror_mode": {
    "name": "ipython",
    "version": 3
   },
   "file_extension": ".py",
   "mimetype": "text/x-python",
   "name": "python",
   "nbconvert_exporter": "python",
   "pygments_lexer": "ipython3",
   "version": "3.11.9"
  }
 },
 "nbformat": 4,
 "nbformat_minor": 2
}
